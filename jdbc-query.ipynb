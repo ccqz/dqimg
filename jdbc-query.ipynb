{
 "cells": [
  {
   "cell_type": "code",
   "execution_count": null,
   "id": "9fb33afc",
   "metadata": {},
   "outputs": [],
   "source": [
    "import sys\n",
    "import os\n",
    "import jaydebeapi\n",
    "import pandas as pd\n",
    "from pandas import DataFrame\n",
    "import io as io\n",
    "import numpy\n",
    "\n",
    "url = 'jdbc:oracle:thin:@8.142.180.78:1521:MAEASDB'\n",
    "driver = 'oracle.jdbc.driver.OracleDriver'\n",
    "userFrom = 'test'\n",
    "passwordFrom = 'test'\n",
    "jarFile = 'D:/Tools/JDBC/ojdbc8.jar'\n",
    "connFrom = jaydebeapi.connect(jclassname=driver,\n",
    "                          url=url,\n",
    "                          driver_args=[userFrom, passwordFrom],\n",
    "                          jars=jarFile)\n",
    "cursFrom = connFrom.cursor()\n",
    "userTo = 'MAEAS'\n",
    "passwordTo = 'MAEAS'\n",
    "jarFile = 'D:/Tools/JDBC/ojdbc8.jar'\n",
    "connTo = jaydebeapi.connect(jclassname=driver,\n",
    "                          url=url,\n",
    "                          driver_args=[userTo, passwordTo],\n",
    "                          jars=jarFile)\n",
    "cursTo = connTo.cursor()\n",
    "sqlStr = 'select FREGIONCODE, FCATEGORYNUMBER, FCATEGORYNAME, FCATEGORYSUBCODE, FCATEGORYSUBNAME, FPAYITEMNUMBER, FPAYITEMNAME, FPAYITETYPE, FCATEGORYID, FCATEGORYSUBID from CT_CUS_PAYITEMSCATE_INIT order by FCATEGORYNUMBER,FCATEGORYSUBCODE,FPAYITEMNUMBER'\n",
    "cursFrom.execute(sqlStr)\n",
    "resultFrom = cursFrom.fetchall()\n",
    "# 数据库查询结果形成DataFrame\n",
    "data_S=pd.DataFrame(resultFrom,columns=['FREGIONCODE', 'FCATEGORYNUMBER', 'FCATEGORYNAME', 'FCATEGORYSUBCODE', 'FCATEGORYSUBNAME','FPAYITEMNUMBER', 'FPAYITEMNAME', 'FPAYITETYPE', 'FCATEGORYID', 'FCATEGORYSUBID'])\n",
    "print(data_S)\n",
    "# cursTo = connTo.cursor()\n",
    "# for i in resultFrom:\n",
    "#    #print (i)\n",
    "sqlInsert=\"insert into CT_CUS_PAYITEMSCATE_INIT (FREGIONCODE, FCATEGORYNUMBER, FCATEGORYNAME, FCATEGORYSUBCODE, FCATEGORYSUBNAME,FPAYITEMNUMBER, FPAYITEMNAME, FPAYITETYPE, FCATEGORYID, FCATEGORYSUBID) values('%s','%s','%s','%s','%s','%s','%s','%s','%s','%s') \"%((i[0],i[1],i[2],i[3],i[4],i[5],i[6],i[7],i[8],i[9]))\n",
    "#    cursTo.execute(sqlInsert)\n",
    "\n",
    "# sqlStr =\"insert into ct_cus_payitemscate(FID, FNUMBER, FNAME_L2, CFREGIONID, FCREATORID, FCREATETIME, FLASTUPDATEUSERID,FLASTUPDATETIME, FCONTROLUNITID) select newbosid('F699FE2C'),FCATEGORYNUMBER,FCATEGORYNAME,ctrl.fid,'00000000-0000-0000-0000-000000000000CCE7AED4',sysdate,'00000000-0000-0000-0000-000000000000CCE7AED4',sysdate,'00000000-0000-0000-0000-000000000000CCE7AED4'\"\n",
    "# sqlstr = f'{sqlStr}  from (select distinct FCATEGORYNUMBER, FCATEGORYNAME, FREGIONCODE from ct_cus_payitemscate_init) s left join t_org_ctrlunit ctrl on s.FREGIONCODE = ctrl.FNUMBER where FREGIONCODE = 3202 order by FCATEGORYNUMBER '\n",
    "# #print(sqlstr)\n",
    "# cursTo.execute(sqlstr)\n",
    "# #connTo.close()\n",
    "# #cursTo.execute(sqlStr)\n",
    "# #resultTo = cursFrom.fetchall()\n",
    "  \n"
   ]
  },
  {
   "cell_type": "code",
   "execution_count": null,
   "id": "285a1712",
   "metadata": {},
   "outputs": [],
   "source": []
  }
 ],
 "metadata": {
  "interpreter": {
   "hash": "f97605a3a306f7433893458323bc0e1d7e969411e054ac74f4fe8dc9944866aa"
  },
  "kernelspec": {
   "display_name": "Python 3.10.4 64-bit",
   "language": "python",
   "name": "python3"
  },
  "language_info": {
   "codemirror_mode": {
    "name": "ipython",
    "version": 3
   },
   "file_extension": ".py",
   "mimetype": "text/x-python",
   "name": "python",
   "nbconvert_exporter": "python",
   "pygments_lexer": "ipython3",
   "version": "3.10.4"
  },
  "vscode": {
   "interpreter": {
    "hash": "f97605a3a306f7433893458323bc0e1d7e969411e054ac74f4fe8dc9944866aa"
   }
  }
 },
 "nbformat": 4,
 "nbformat_minor": 5
}
